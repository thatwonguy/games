{
 "cells": [
  {
   "cell_type": "code",
   "execution_count": 1,
   "metadata": {},
   "outputs": [
    {
     "name": "stdout",
     "output_type": "stream",
     "text": [
      "pygame 2.5.2 (SDL 2.28.3, Python 3.9.19)\n",
      "Hello from the pygame community. https://www.pygame.org/contribute.html\n"
     ]
    }
   ],
   "source": [
    "import pygame\n",
    "import random\n",
    "\n",
    "# Initialize Pygame\n",
    "pygame.init()\n",
    "\n",
    "# Set up display\n",
    "width, height = 800, 600\n",
    "window = pygame.display.set_mode((width, height))\n",
    "pygame.display.set_caption('Breakout')\n",
    "\n",
    "# Set up colors\n",
    "black = (0, 0, 0)\n",
    "white = (255, 255, 255)\n",
    "colors = [(255, 0, 0), (0, 255, 0), (0, 0, 255), (255, 255, 0), (255, 165, 0)]\n",
    "\n",
    "# Paddle\n",
    "paddle = pygame.Rect(width // 2 - 60, height - 30, 120, 20)\n",
    "paddle_speed = 10\n",
    "\n",
    "# Ball\n",
    "ball = pygame.Rect(width // 2 - 15, height // 2 - 15, 30, 30)\n",
    "ball_speed = [random.choice((5, -5)), random.choice((5, -5))]\n",
    "\n",
    "# Bricks\n",
    "brick_rows = 5\n",
    "brick_cols = 11\n",
    "brick_width = 70\n",
    "brick_height = 20\n",
    "bricks = [pygame.Rect(col * brick_width + 10, row * brick_height + 40, brick_width - 2, brick_height - 2) for row in range(brick_rows) for col in range(brick_cols)]\n",
    "\n",
    "# Main game loop\n",
    "running = True\n",
    "while running:\n",
    "    for event in pygame.event.get():\n",
    "        if event.type == pygame.QUIT:\n",
    "            running = False\n",
    "\n",
    "    keys = pygame.key.get_pressed()\n",
    "    if keys[pygame.K_LEFT] and paddle.left > 0:\n",
    "        paddle.left -= paddle_speed\n",
    "    if keys[pygame.K_RIGHT] and paddle.right < width:\n",
    "        paddle.right += paddle_speed\n",
    "\n",
    "    ball.left += ball_speed[0]\n",
    "    ball.top += ball_speed[1]\n",
    "\n",
    "    if ball.left <= 0 or ball.right >= width:\n",
    "        ball_speed[0] = -ball_speed[0]\n",
    "    if ball.top <= 0 or ball.colliderect(paddle):\n",
    "        ball_speed[1] = -ball_speed[1]\n",
    "\n",
    "    for brick in bricks[:]:\n",
    "        if ball.colliderect(brick):\n",
    "            bricks.remove(brick)\n",
    "            ball_speed[1] = -ball_speed[1]\n",
    "\n",
    "    if ball.top >= height:\n",
    "        running = False\n",
    "\n",
    "    window.fill(black)\n",
    "    pygame.draw.rect(window, white, paddle)\n",
    "    pygame.draw.ellipse(window, white, ball)\n",
    "\n",
    "    for brick in bricks:\n",
    "        pygame.draw.rect(window, colors[bricks.index(brick) % len(colors)], brick)\n",
    "\n",
    "    pygame.display.flip()\n",
    "    pygame.time.delay(30)\n",
    "\n",
    "pygame.quit()\n"
   ]
  }
 ],
 "metadata": {
  "kernelspec": {
   "display_name": "games",
   "language": "python",
   "name": "python3"
  },
  "language_info": {
   "codemirror_mode": {
    "name": "ipython",
    "version": 3
   },
   "file_extension": ".py",
   "mimetype": "text/x-python",
   "name": "python",
   "nbconvert_exporter": "python",
   "pygments_lexer": "ipython3",
   "version": "3.9.19"
  }
 },
 "nbformat": 4,
 "nbformat_minor": 2
}
